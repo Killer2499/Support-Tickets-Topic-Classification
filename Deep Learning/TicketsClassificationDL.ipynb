{
  "nbformat": 4,
  "nbformat_minor": 0,
  "metadata": {
    "colab": {
      "name": "TicketsClassificationDL.ipynb",
      "version": "0.3.2",
      "provenance": [],
      "collapsed_sections": []
    },
    "kernelspec": {
      "name": "python3",
      "display_name": "Python 3"
    }
  },
  "cells": [
    {
      "cell_type": "code",
      "metadata": {
        "id": "s34hKA4TfQsg",
        "colab_type": "code",
        "outputId": "19d77f46-f61d-4301-ec5a-cff99deb1c5e",
        "colab": {
          "base_uri": "https://localhost:8080/",
          "height": 52
        }
      },
      "source": [
        "import nltk\n",
        "import re\n",
        "from gensim import models, corpora\n",
        "from nltk import word_tokenize\n",
        "from nltk.corpus import stopwords\n",
        "nltk.download('brown')\n",
        "import numpy as np\n",
        "import pandas as pd\n",
        "from matplotlib import pyplot as plt\n",
        "from bs4 import BeautifulSoup\n",
        "import re\n",
        "import keras\n",
        "from keras.models import load_model\n",
        "#model = load_model('model.h5')"
      ],
      "execution_count": 3,
      "outputs": [
        {
          "output_type": "stream",
          "text": [
            "[nltk_data] Downloading package brown to /root/nltk_data...\n",
            "[nltk_data]   Package brown is already up-to-date!\n"
          ],
          "name": "stdout"
        }
      ]
    },
    {
      "cell_type": "code",
      "metadata": {
        "id": "9p2jq05Oi418",
        "colab_type": "code",
        "outputId": "8d3d7188-1e0b-498b-8c89-484c69c8dfd2",
        "colab": {
          "base_uri": "https://localhost:8080/",
          "height": 197
        }
      },
      "source": [
        "\n",
        "data=pd.read_csv('latest_ticket_data.csv')\n",
        "data.head()"
      ],
      "execution_count": 4,
      "outputs": [
        {
          "output_type": "execute_result",
          "data": {
            "text/html": [
              "<div>\n",
              "<style scoped>\n",
              "    .dataframe tbody tr th:only-of-type {\n",
              "        vertical-align: middle;\n",
              "    }\n",
              "\n",
              "    .dataframe tbody tr th {\n",
              "        vertical-align: top;\n",
              "    }\n",
              "\n",
              "    .dataframe thead th {\n",
              "        text-align: right;\n",
              "    }\n",
              "</style>\n",
              "<table border=\"1\" class=\"dataframe\">\n",
              "  <thead>\n",
              "    <tr style=\"text-align: right;\">\n",
              "      <th></th>\n",
              "      <th>Description</th>\n",
              "      <th>Category</th>\n",
              "    </tr>\n",
              "  </thead>\n",
              "  <tbody>\n",
              "    <tr>\n",
              "      <th>0</th>\n",
              "      <td>hi since recruiter lead permission approve req...</td>\n",
              "      <td>Application</td>\n",
              "    </tr>\n",
              "    <tr>\n",
              "      <th>1</th>\n",
              "      <td>re expire days hi ask help update passwords co...</td>\n",
              "      <td>Application</td>\n",
              "    </tr>\n",
              "    <tr>\n",
              "      <th>2</th>\n",
              "      <td>verification warning hi has got attached pleas...</td>\n",
              "      <td>Application</td>\n",
              "    </tr>\n",
              "    <tr>\n",
              "      <th>3</th>\n",
              "      <td>please dear looks blacklisted receiving mails ...</td>\n",
              "      <td>Application</td>\n",
              "    </tr>\n",
              "    <tr>\n",
              "      <th>4</th>\n",
              "      <td>dear modules report report cost thank much reg...</td>\n",
              "      <td>Application</td>\n",
              "    </tr>\n",
              "  </tbody>\n",
              "</table>\n",
              "</div>"
            ],
            "text/plain": [
              "                                         Description     Category\n",
              "0  hi since recruiter lead permission approve req...  Application\n",
              "1  re expire days hi ask help update passwords co...  Application\n",
              "2  verification warning hi has got attached pleas...  Application\n",
              "3  please dear looks blacklisted receiving mails ...  Application\n",
              "4  dear modules report report cost thank much reg...  Application"
            ]
          },
          "metadata": {
            "tags": []
          },
          "execution_count": 4
        }
      ]
    },
    {
      "cell_type": "code",
      "metadata": {
        "id": "LrQOQMVsfRUO",
        "colab_type": "code",
        "colab": {}
      },
      "source": [
        "features=data.iloc[:,0].values\n",
        "labels=data.iloc[:,1].values"
      ],
      "execution_count": 0,
      "outputs": []
    },
    {
      "cell_type": "code",
      "metadata": {
        "id": "3C1gic6UQBHt",
        "colab_type": "code",
        "outputId": "e5fa56f5-877f-4f30-85a5-951d3f07e9df",
        "colab": {
          "base_uri": "https://localhost:8080/",
          "height": 52
        }
      },
      "source": [
        "print(labels)"
      ],
      "execution_count": 6,
      "outputs": [
        {
          "output_type": "stream",
          "text": [
            "['Application' 'Application' 'Application' ... 'Database' 'Database'\n",
            " 'Database']\n"
          ],
          "name": "stdout"
        }
      ]
    },
    {
      "cell_type": "markdown",
      "metadata": {
        "id": "hguEL645SOve",
        "colab_type": "text"
      },
      "source": [
        "**Cleaning Html Text**"
      ]
    },
    {
      "cell_type": "code",
      "metadata": {
        "id": "UAwTmLWtHxE-",
        "colab_type": "code",
        "colab": {
          "base_uri": "https://localhost:8080/",
          "height": 185
        },
        "outputId": "d3839ff2-bc67-4748-e7d8-be1b89b59264"
      },
      "source": [
        "#Cleaning The Description\n",
        "datasource['Description'] = [BeautifulSoup(X).getText(\" \") for X in datasource['Description']]\n",
        "#data.head()\n"
      ],
      "execution_count": 7,
      "outputs": [
        {
          "output_type": "error",
          "ename": "NameError",
          "evalue": "ignored",
          "traceback": [
            "\u001b[0;31m---------------------------------------------------------------------------\u001b[0m",
            "\u001b[0;31mNameError\u001b[0m                                 Traceback (most recent call last)",
            "\u001b[0;32m<ipython-input-7-d26209864fb7>\u001b[0m in \u001b[0;36m<module>\u001b[0;34m()\u001b[0m\n\u001b[0;32m----> 1\u001b[0;31m \u001b[0mdatasource\u001b[0m\u001b[0;34m[\u001b[0m\u001b[0;34m'Description'\u001b[0m\u001b[0;34m]\u001b[0m \u001b[0;34m=\u001b[0m \u001b[0;34m[\u001b[0m\u001b[0mBeautifulSoup\u001b[0m\u001b[0;34m(\u001b[0m\u001b[0mX\u001b[0m\u001b[0;34m)\u001b[0m\u001b[0;34m.\u001b[0m\u001b[0mgetText\u001b[0m\u001b[0;34m(\u001b[0m\u001b[0;34m\" \"\u001b[0m\u001b[0;34m)\u001b[0m \u001b[0;32mfor\u001b[0m \u001b[0mX\u001b[0m \u001b[0;32min\u001b[0m \u001b[0mdatasource\u001b[0m\u001b[0;34m[\u001b[0m\u001b[0;34m'Description'\u001b[0m\u001b[0;34m]\u001b[0m\u001b[0;34m]\u001b[0m\u001b[0;34m\u001b[0m\u001b[0;34m\u001b[0m\u001b[0m\n\u001b[0m\u001b[1;32m      2\u001b[0m \u001b[0;31m#data.head()\u001b[0m\u001b[0;34m\u001b[0m\u001b[0;34m\u001b[0m\u001b[0;34m\u001b[0m\u001b[0m\n",
            "\u001b[0;31mNameError\u001b[0m: name 'datasource' is not defined"
          ]
        }
      ]
    },
    {
      "cell_type": "code",
      "metadata": {
        "id": "rgBWLrvOlQS8",
        "colab_type": "code",
        "outputId": "b67f7501-957b-45b3-e766-b8488007d1a4",
        "colab": {
          "base_uri": "https://localhost:8080/",
          "height": 34
        }
      },
      "source": [
        "cList = {\n",
        "  \"ain't\": \"am not\",\n",
        "  \"aren't\": \"are not\",\n",
        "  \"can't\": \"cannot\",\n",
        "  \"can't've\": \"cannot have\",\n",
        "  \"'cause\": \"because\",\n",
        "  \"could've\": \"could have\",\n",
        "  \"couldn't\": \"could not\",\n",
        "  \"couldn't've\": \"could not have\",\n",
        "  \"didn't\": \"did not\",\n",
        "  \"doesn't\": \"does not\",\n",
        "  \"don't\": \"do not\",\n",
        "  \"hadn't\": \"had not\",\n",
        "  \"hadn't've\": \"had not have\",\n",
        "  \"hasn't\": \"has not\",\n",
        "  \"haven't\": \"have not\",\n",
        "  \"he'd\": \"he would\",\n",
        "  \"he'd've\": \"he would have\",\n",
        "  \"he'll\": \"he will\",\n",
        "  \"he'll've\": \"he will have\",\n",
        "  \"he's\": \"he is\",\n",
        "  \"how'd\": \"how did\",\n",
        "  \"how'd'y\": \"how do you\",\n",
        "  \"how'll\": \"how will\",\n",
        "  \"how's\": \"how is\",\n",
        "  \"I'd\": \"I would\",\n",
        "  \"I'd've\": \"I would have\",\n",
        "  \"I'll\": \"I will\",\n",
        "  \"I'll've\": \"I will have\",\n",
        "  \"I'm\": \"I am\",\n",
        "  \"I've\": \"I have\",\n",
        "  \"isn't\": \"is not\",\n",
        "  \"it'd\": \"it had\",\n",
        "  \"it'd've\": \"it would have\",\n",
        "  \"it'll\": \"it will\",\n",
        "  \"it'll've\": \"it will have\",\n",
        "  \"it's\": \"it is\",\n",
        "  \"let's\": \"let us\",\n",
        "  \"ma'am\": \"madam\",\n",
        "  \"mayn't\": \"may not\",\n",
        "  \"might've\": \"might have\",\n",
        "  \"mightn't\": \"might not\",\n",
        "  \"mightn't've\": \"might not have\",\n",
        "  \"must've\": \"must have\",\n",
        "  \"mustn't\": \"must not\",\n",
        "  \"mustn't've\": \"must not have\",\n",
        "  \"needn't\": \"need not\",\n",
        "  \"needn't've\": \"need not have\",\n",
        "  \"o'clock\": \"of the clock\",\n",
        "  \"oughtn't\": \"ought not\",\n",
        "  \"oughtn't've\": \"ought not have\",\n",
        "  \"shan't\": \"shall not\",\n",
        "  \"sha'n't\": \"shall not\",\n",
        "  \"shan't've\": \"shall not have\",\n",
        "  \"she'd\": \"she would\",\n",
        "  \"she'd've\": \"she would have\",\n",
        "  \"she'll\": \"she will\",\n",
        "  \"she'll've\": \"she will have\",\n",
        "  \"she's\": \"she is\",\n",
        "  \"should've\": \"should have\",\n",
        "  \"shouldn't\": \"should not\",\n",
        "  \"shouldn't've\": \"should not have\",\n",
        "  \"so've\": \"so have\",\n",
        "  \"so's\": \"so is\",\n",
        "  \"that'd\": \"that would\",\n",
        "  \"that'd've\": \"that would have\",\n",
        "  \"that's\": \"that is\",\n",
        "  \"there'd\": \"there had\",\n",
        "  \"there'd've\": \"there would have\",\n",
        "  \"there's\": \"there is\",\n",
        "  \"they'd\": \"they would\",\n",
        "  \"they'd've\": \"they would have\",\n",
        "  \"they'll\": \"they will\",\n",
        "  \"they'll've\": \"they will have\",\n",
        "  \"they're\": \"they are\",\n",
        "  \"they've\": \"they have\",\n",
        "  \"to've\": \"to have\",\n",
        "  \"wasn't\": \"was not\",\n",
        "  \"we'd\": \"we had\",\n",
        "  \"we'd've\": \"we would have\",\n",
        "  \"we'll\": \"we will\",\n",
        "  \"we'll've\": \"we will have\",\n",
        "  \"we're\": \"we are\",\n",
        "  \"we've\": \"we have\",\n",
        "  \"weren't\": \"were not\",\n",
        "  \"what'll\": \"what will\",\n",
        "  \"what'll've\": \"what will have\",\n",
        "  \"what're\": \"what are\",\n",
        "  \"what's\": \"what is\",\n",
        "  \"what've\": \"what have\",\n",
        "  \"when's\": \"when is\",\n",
        "  \"when've\": \"when have\",\n",
        "  \"where'd\": \"where did\",\n",
        "  \"where's\": \"where is\",\n",
        "  \"where've\": \"where have\",\n",
        "  \"who'll\": \"who will\",\n",
        "  \"who'll've\": \"who will have\",\n",
        "  \"who's\": \"who is\",\n",
        "  \"who've\": \"who have\",\n",
        "  \"why's\": \"why is\",\n",
        "  \"why've\": \"why have\",\n",
        "  \"will've\": \"will have\",\n",
        "  \"won't\": \"will not\",\n",
        "  \"won't've\": \"will not have\",\n",
        "  \"would've\": \"would have\",\n",
        "  \"wouldn't\": \"would not\",\n",
        "  \"wouldn't've\": \"would not have\",\n",
        "  \"y'all\": \"you all\",\n",
        "  \"y'alls\": \"you alls\",\n",
        "  \"y'all'd\": \"you all would\",\n",
        "  \"y'all'd've\": \"you all would have\",\n",
        "  \"y'all're\": \"you all are\",\n",
        "  \"y'all've\": \"you all have\",\n",
        "  \"you'd\": \"you had\",\n",
        "  \"you'd've\": \"you would have\",\n",
        "  \"you'll\": \"you you will\",\n",
        "  \"you'll've\": \"you you will have\",\n",
        "  \"you're\": \"you are\",\n",
        "  \"you've\": \"you have\"\n",
        "}\n",
        "\n",
        "c_re = re.compile('(%s)' % '|'.join(cList.keys()))\n",
        " \n",
        "def expandContractions(text, c_re=c_re):\n",
        "    def replace(match):\n",
        "        return cList[match.group(0)]\n",
        "    return c_re.sub(replace, text)\n",
        "  \n",
        "expandContractions(\"I ain't going anywhere\")"
      ],
      "execution_count": 8,
      "outputs": [
        {
          "output_type": "execute_result",
          "data": {
            "text/plain": [
              "'I am not going anywhere'"
            ]
          },
          "metadata": {
            "tags": []
          },
          "execution_count": 8
        }
      ]
    },
    {
      "cell_type": "code",
      "metadata": {
        "id": "IFQTgXh7lUXE",
        "colab_type": "code",
        "colab": {}
      },
      "source": [
        "def clean_text(text):\n",
        "\n",
        "    \n",
        "    #Removing comments fom body\n",
        "    cleaned_text = text.replace(r'From:.*$', '')\n",
        "\n",
        "\n",
        "    #Expanding the sentence\n",
        "    cleaned_text = (re.sub(\"([A-Z]{1}[a-z])\",\" \\\\1\",i) for i in  cleaned_text)\n",
        "\n",
        "    #To Lower case\n",
        "    #cleaned_text = cleaned_text.lower()\n",
        "\n",
        "    #Removing email ID's\n",
        "    cleaned_text = (re.sub(\"[a-zA-Z0-9_.+-]+@[a-zA-Z0-9-]+\\\\.[a-zA-Z0-9.]+\",\"\",i) for i in  cleaned_text)\n",
        "\n",
        "    #Removing hyperlinks\n",
        "    cleaned_text = (re.sub(\"(http:\\/\\/www\\.|https:\\/\\/www\\.|http:\\/\\/|https:\\/\\/)?[a-z0-9]+([\\-\\.]{1}[a-zA-Z0-9]+)*\\.[a-z]{2,5}(:[0-9]{1,5})?(\\/.*)?\",\"\",i) for i in  cleaned_text)\n",
        "\n",
        "    cleaned_text = (re.sub(\"http\\S+\",\"\",i) for i in  cleaned_text)\n",
        "\n",
        "    #cleaned_text = cleaned_text.replace(r'url= .', '')\n",
        "\n",
        "    #Replacing Contractions\n",
        "    cleaned_text = (re.sub(\"’\",\"'\",i) for i in  cleaned_text)\n",
        "\n",
        "    cleaned_text = (expandContractions(i) for i in  cleaned_text)\n",
        "\n",
        "    #Removing unnecessary punctuations\n",
        "    cleaned_text = (re.sub(\"[\\(\\)\\-\\[\\]\\{\\}\\;\\:\\\"\\\\\\<\\>\\/\\@\\#\\$\\%\\^\\&\\*\\_\\~\\–]+\",\" \",i) for i in  cleaned_text)\n",
        "\n",
        "    cleaned_text = (re.sub(\"(\\?)([a-zA-Z0-9]+)\",\"\\\\1 \\\\2\",i) for i in  cleaned_text)\n",
        "\n",
        "    cleaned_text = (re.sub(\"([A-Za-z]{1,})(\\.)([A-Za-z]{2,})\",\"\\\\1 \\\\2 \\\\3\",i) for i in  cleaned_text)\n",
        "\n",
        "    cleaned_text = (re.sub(\"[\\']+\",\"\",i) for i in  cleaned_text)\n",
        "\n",
        "    #cleaned_text = cleaned_text.replace(r'\\xa0', ' ')\n",
        "\n",
        "    cleaned_text = (re.sub(\"(\\.)(\\,|\\?|\\'|\\!|\\s){1,}\",\"\\\\1 \",i) for i in  cleaned_text)\n",
        "\n",
        "    cleaned_text = (re.sub(\"(!){1}(\\s)*(\\=)\",\" not equals \",i) for i in  cleaned_text)\n",
        "\n",
        "    cleaned_text = (re.sub(\"(\\=)\",\" equals \",i) for i in  cleaned_text)\n",
        "\n",
        "\n",
        "    #Replacing _ with \" \"\n",
        "    cleaned_text = (re.sub(\"_\",\" \",i) for i in  cleaned_text)\n",
        "   \n",
        "    \n",
        "    #Replacing @–\n",
        "    #cleaned_text = cleaned_text.apply(lambda i: re.sub(r'[@–]','',i))\n",
        "\n",
        "    #Removing ASCII\n",
        "    #cleaned_text = cleaned_text.apply(lambda i:  re.sub(r'[^\\x00-\\x7F]+',' ', i))\n",
        "\n",
        "    #Replacing multiple '.' with single '.'\n",
        "    cleaned_text = (re.sub(\"\\s\\.+\",\" .\",i) for i in  cleaned_text)\n",
        "\n",
        "    cleaned_text = (re.sub(\"\\\\.+\",\".\",i) for i in  cleaned_text)\n",
        "\n",
        "    #Replacing . follower by characters with spaces followed by . followed by characters\n",
        "    cleaned_text = (re.sub(\"([0-9]+)(\\.{1})([^0-9]+)\",\"\\\\1 \\\\2 \\\\3\",i) for i in  cleaned_text)\n",
        "\n",
        "\n",
        "    # remove after regards\n",
        "    cleaned_text = (re.sub(r'regards.*$','',i) for i in  cleaned_text)\n",
        "    cleaned_text = (re.sub(r'tel \\+.*$','',i) for i in  cleaned_text) \n",
        "    cleaned_text = (re.sub(r'fax \\+.*$','',i) for i in  cleaned_text)\n",
        "   \n",
        "    #print (cleaned_text)\n",
        "    \n",
        "    # Remove all the special characters\n",
        "    cleaned_text = re.sub(r'\\W', ' ', (\"\").join(cleaned_text))\n",
        "    #print (cleaned_text)\n",
        "    \n",
        "    \n",
        "    # Remove single characters from the start\n",
        "    cleaned_text = re.sub(r'\\^[a-zA-Z]\\s+', ' ', cleaned_text) \n",
        "\n",
        "    # Substituting multiple spaces with single space\n",
        "    cleaned_text = re.sub(r'\\s+', ' ', cleaned_text, flags=re.I)\n",
        "\n",
        "    \n",
        "    # remove all single characters\n",
        "    cleaned_text= re.sub(r'\\s+[a-zA-Z]\\s+', ' ', cleaned_text)\n",
        "    \n",
        "    \n",
        "    #Getting to root word \n",
        "    #cleaned_text = (lemmatizeCust(i) for i in  cleaned_text)\n",
        "    \n",
        "    #Removing stopwords\n",
        "    #cleaned_text = (removeStopWord(i) for i in  cleaned_text)\n",
        "\n",
        "    #Replacing muiltple white spaces\n",
        "    #cleaned_text = (re.sub(\" +\",\" \",i) for i in  cleaned_text)\n",
        "\n",
        "\n",
        "    \n",
        "\n",
        "    return(cleaned_text)\n",
        "  \n"
      ],
      "execution_count": 0,
      "outputs": []
    },
    {
      "cell_type": "code",
      "metadata": {
        "id": "i_exG7nxqP4k",
        "colab_type": "code",
        "colab": {}
      },
      "source": [
        "stopWordlist =[\n",
        " 'thank',\n",
        " 'regards',\n",
        " 'ocp',\n",
        " 'thanks',\n",
        " 'hi',\n",
        " 'hello',\n",
        " 'team',\n",
        " 'team',\n",
        " 'team',\n",
        " 'team',\n",
        " 'team',\n",
        " 'team',\n",
        " 'team',\n",
        " 'team',\n",
        " 'i',               \n",
        " 'me',\n",
        " 'my',\n",
        " 'myself',\n",
        " 'we',\n",
        " 'our',\n",
        " 'ours',\n",
        " 'ourselves',\n",
        " 'you',\n",
        " \"you're\",\n",
        " \"you've\",\n",
        " \"you'll\",\n",
        " \"you'd\",\n",
        " 'your',\n",
        " 'yours',\n",
        " 'yourself',\n",
        " 'yourselves',\n",
        " 'he',\n",
        " 'him',\n",
        " 'his',\n",
        " 'himself',\n",
        " 'she',\n",
        " \"she's\",\n",
        " 'her',\n",
        " 'hers',\n",
        " 'herself',\n",
        " 'it',\n",
        " \"it's\",\n",
        " 'its',\n",
        " 'itself',\n",
        " 'they',\n",
        " 'them',\n",
        " 'their',\n",
        " 'theirs',\n",
        " 'themselves',\n",
        " 'what',\n",
        " 'which',\n",
        " 'who',\n",
        " 'whom',\n",
        " 'this',\n",
        " 'that',\n",
        " \"that'll\",\n",
        " 'these',\n",
        " 'those',\n",
        " 'am',\n",
        " 'is',\n",
        " 'are',\n",
        " 'was',\n",
        " 'were',\n",
        " 'be',\n",
        " 'been',\n",
        " 'being',\n",
        " 'have',\n",
        " 'has',\n",
        " 'had',\n",
        " 'having',\n",
        " 'do',\n",
        " 'does',\n",
        " 'did',\n",
        " 'doing',\n",
        " 'a',\n",
        " 'an',\n",
        " 'the',\n",
        " 'and',\n",
        " 'if',\n",
        " 'or',\n",
        " 'because',\n",
        " 'as',\n",
        " 'until',\n",
        " 'while',\n",
        " 'of',\n",
        " 'at',\n",
        " 'by',\n",
        " 'for',\n",
        " 'with',\n",
        " 'about',\n",
        " 'against',\n",
        " 'between',\n",
        " 'into',\n",
        " 'through',\n",
        " 'during',\n",
        " 'before',\n",
        " 'after',\n",
        " 'above',\n",
        " 'below',\n",
        " 'to',\n",
        " 'from',\n",
        " 'up',\n",
        " 'down',\n",
        " 'in',\n",
        " 'out',\n",
        " 'on',\n",
        " 'off',\n",
        " 'over',\n",
        " 'under',\n",
        " 'again',\n",
        " 'further',\n",
        " 'then',\n",
        " 'once',\n",
        " 'here',\n",
        " 'there',\n",
        " 'when',\n",
        " 'where',\n",
        " 'why',\n",
        " 'how',\n",
        " 'all',\n",
        " 'any',\n",
        " 'both',\n",
        " 'each',\n",
        " 'few',\n",
        " 'more',\n",
        " 'most',\n",
        " 'other',\n",
        " 'some',\n",
        " 'such',\n",
        " 'no',\n",
        " 'nor',\n",
        " 'only',\n",
        " 'own',\n",
        " 'same',\n",
        " 'so',\n",
        " 'than',\n",
        " 'too',\n",
        " 'very',\n",
        " 's',\n",
        " 't',\n",
        " 'can',\n",
        " 'will',\n",
        " 'just',\n",
        " 'don',\n",
        " \"don't\",\n",
        " 'should',\n",
        " \"should've\",\n",
        " 'now',\n",
        " 'd',\n",
        " 'll',\n",
        " 'm',\n",
        " 'o',\n",
        " 're',\n",
        " 've',\n",
        " 'y',\n",
        " 'ain',\n",
        " 'aren',\n",
        " \"aren't\",\n",
        " 'couldn',\n",
        " \"couldn't\",\n",
        " 'didn',\n",
        " \"didn't\",\n",
        " 'doesn',\n",
        " \"doesn't\",\n",
        " 'hadn',\n",
        " \"hadn't\",\n",
        " 'hasn',\n",
        " \"hasn't\",\n",
        " 'haven',\n",
        " \"haven't\",\n",
        " 'isn',\n",
        " \"isn't\",\n",
        " 'ma',\n",
        " 'mightn',\n",
        " \"mightn't\",\n",
        " 'mustn',\n",
        " \"mustn't\",\n",
        " 'needn',\n",
        " \"needn't\",\n",
        " 'shan',\n",
        " \"shan't\",\n",
        " 'shouldn',\n",
        " \"shouldn't\",\n",
        " 'wasn',\n",
        " \"wasn't\",\n",
        " 'weren',\n",
        " \"weren't\",\n",
        " 'won',\n",
        " \"won't\",\n",
        " 'wouldn',\n",
        " \"wouldn't\",\n",
        "  'xa0']"
      ],
      "execution_count": 0,
      "outputs": []
    },
    {
      "cell_type": "code",
      "metadata": {
        "id": "rcGuiRfNqTbs",
        "colab_type": "code",
        "colab": {}
      },
      "source": [
        "def removeStopWord(text):\n",
        "    string = \"\"\n",
        "    for word in text.split(\" \"):\n",
        "        if(word in stopWordlist):\n",
        "            string = string + \"\"\n",
        "        else:\n",
        "            string = string + \" \" + word\n",
        "    return string "
      ],
      "execution_count": 0,
      "outputs": []
    },
    {
      "cell_type": "code",
      "metadata": {
        "id": "0xOq8-urlXYh",
        "colab_type": "code",
        "outputId": "f0cfa984-77b3-4bdc-df6d-e11e87c83a41",
        "colab": {
          "base_uri": "https://localhost:8080/",
          "height": 34
        }
      },
      "source": [
        "from nltk.stem import PorterStemmer\n",
        "from nltk.tokenize import sent_tokenize, word_tokenize\n",
        "\n",
        "porter=PorterStemmer()\n",
        "def stemSentence(sentence):\n",
        "    token_words=word_tokenize(sentence)\n",
        "    token_words\n",
        "    stem_sentence=[]\n",
        "    for word in token_words:\n",
        "        stem_sentence.append(porter.stem(word))\n",
        "        stem_sentence.append(\" \")\n",
        "    return \"\".join(stem_sentence)\n",
        "\n",
        "x=stemSentence(\"I am loving it\")\n",
        "print(x)\n"
      ],
      "execution_count": 12,
      "outputs": [
        {
          "output_type": "stream",
          "text": [
            "I am love it \n"
          ],
          "name": "stdout"
        }
      ]
    },
    {
      "cell_type": "code",
      "metadata": {
        "id": "Sa4ID7Vnru4f",
        "colab_type": "code",
        "colab": {}
      },
      "source": [
        "vector_cleaned_data=[]\n",
        "from sklearn.feature_extraction.text import CountVectorizer\n",
        "from nltk.corpus import stopwords \n",
        "\n",
        "stop_words = ['in', 'of', 'at', 'a', 'the','an','or','i','and','has','he','will','was','with','is','its','if']\n",
        "\n",
        "cv = CountVectorizer(binary=True,ngram_range=(1,3),stop_words=stop_words)\n",
        "\n",
        "cv.fit(cleaned_data_train)\n",
        "vector_clean_data= cv.transform(cleaned_data_train)"
      ],
      "execution_count": 0,
      "outputs": []
    },
    {
      "cell_type": "code",
      "metadata": {
        "id": "KAOd4FKLloy1",
        "colab_type": "code",
        "colab": {}
      },
      "source": [
        "cleaned_data_train=[]\n",
        "for sentence in range(0,len(features)):\n",
        "  cleaned_sentence=expandContractions(str(features[sentence]))\n",
        "  cleaned_sentence=clean_text(cleaned_sentence)\n",
        "  \n",
        "  cleaned_data_train.append(cleaned_sentence)"
      ],
      "execution_count": 0,
      "outputs": []
    },
    {
      "cell_type": "code",
      "metadata": {
        "id": "yh6_gBfpMoqJ",
        "colab_type": "code",
        "colab": {}
      },
      "source": [
        "#features=pd.DataFrame([data['Description'],data['Issue Title']],columns=['Description','Issue Title'])\n",
        "features=pd.DataFrame([data['Description']],columns=['Description'])"
      ],
      "execution_count": 0,
      "outputs": []
    },
    {
      "cell_type": "code",
      "metadata": {
        "id": "rZ7Z0dfKfgoM",
        "colab_type": "code",
        "colab": {
          "base_uri": "https://localhost:8080/",
          "height": 34
        },
        "outputId": "a0ad17e1-5ea4-4b6b-fd04-a0a52753ed3b"
      },
      "source": [
        "\n",
        "MAX_NB_WORDS = 50000\n",
        "# Max number of words in each complaint.\n",
        "MAX_SEQUENCE_LENGTH = 250\n",
        "# This is fixed.\n",
        "EMBEDDING_DIM = 100\n",
        "tokenizer = keras.preprocessing.text.Tokenizer(num_words=MAX_NB_WORDS, filters='!\"#$%&()*+,-./:;<=>?@[\\]^_`{|}~', lower=True)\n",
        "tokenizer.fit_on_texts(data['Description'].values)\n",
        "word_index = tokenizer.word_index\n",
        "print('Found %s unique tokens.' % len(word_index))"
      ],
      "execution_count": 17,
      "outputs": [
        {
          "output_type": "stream",
          "text": [
            "Found 5103 unique tokens.\n"
          ],
          "name": "stdout"
        }
      ]
    },
    {
      "cell_type": "code",
      "metadata": {
        "id": "KMZub3hZfkDb",
        "colab_type": "code",
        "colab": {
          "base_uri": "https://localhost:8080/",
          "height": 34
        },
        "outputId": "6cc3595f-ec7d-4842-b83d-cac93d60bd45"
      },
      "source": [
        "X = tokenizer.texts_to_sequences(data['Description'])\n",
        "X = keras.preprocessing.sequence.pad_sequences(X, maxlen=MAX_SEQUENCE_LENGTH)\n",
        "print('Shape of data tensor:', X.shape)"
      ],
      "execution_count": 18,
      "outputs": [
        {
          "output_type": "stream",
          "text": [
            "Shape of data tensor: (3000, 250)\n"
          ],
          "name": "stdout"
        }
      ]
    },
    {
      "cell_type": "code",
      "metadata": {
        "id": "vguwaIKgN7Ui",
        "colab_type": "code",
        "colab": {
          "base_uri": "https://localhost:8080/",
          "height": 34
        },
        "outputId": "ada1f9d3-e28e-472d-d523-4e47ac54b1fd"
      },
      "source": [
        "Y = pd.get_dummies(data['Category']).values\n",
        "print('Shape of label tensor:', Y.shape)"
      ],
      "execution_count": 19,
      "outputs": [
        {
          "output_type": "stream",
          "text": [
            "Shape of label tensor: (3000, 5)\n"
          ],
          "name": "stdout"
        }
      ]
    },
    {
      "cell_type": "code",
      "metadata": {
        "id": "BKR8lc3WOL0Z",
        "colab_type": "code",
        "colab": {
          "base_uri": "https://localhost:8080/",
          "height": 52
        },
        "outputId": "0d81e707-3c12-4c0e-e9ec-f1a6510da555"
      },
      "source": [
        "from sklearn.model_selection import train_test_split\n",
        "X_train, X_test, Y_train, Y_test = train_test_split(X,Y, test_size = 0.20, random_state = 42)\n",
        "print(X_train.shape,Y_train.shape)\n",
        "print(X_test.shape,Y_test.shape)"
      ],
      "execution_count": 20,
      "outputs": [
        {
          "output_type": "stream",
          "text": [
            "(2400, 250) (2400, 5)\n",
            "(600, 250) (600, 5)\n"
          ],
          "name": "stdout"
        }
      ]
    },
    {
      "cell_type": "code",
      "metadata": {
        "id": "YbJO51ETf1gs",
        "colab_type": "code",
        "colab": {
          "base_uri": "https://localhost:8080/",
          "height": 194
        },
        "outputId": "84951344-2603-4b7d-80fe-7eab5dba84ca"
      },
      "source": [
        "from keras.layers import Dense,Embedding,LSTM,SpatialDropout1D\n",
        "from keras.models import Sequential\n",
        "model = Sequential()\n",
        "model.add(Embedding(MAX_NB_WORDS, EMBEDDING_DIM, input_length=X.shape[1]))\n",
        "model.add(SpatialDropout1D(0.2))\n",
        "model.add(LSTM(100, dropout=0.2, recurrent_dropout=0.2))\n",
        "model.add(Dense(5, activation='softmax'))\n",
        "model.compile(loss='categorical_crossentropy', optimizer='adam', metrics=['accuracy'])\n",
        "\n",
        "epochs = 5\n",
        "batch_size = 64\n",
        "\n",
        "history = model.fit(X_train, Y_train, epochs=epochs, batch_size=batch_size)\n"
      ],
      "execution_count": 45,
      "outputs": [
        {
          "output_type": "stream",
          "text": [
            "Epoch 1/5\n",
            "2400/2400 [==============================] - 31s 13ms/step - loss: 1.5504 - acc: 0.3596\n",
            "Epoch 2/5\n",
            "2400/2400 [==============================] - 29s 12ms/step - loss: 1.1589 - acc: 0.5650\n",
            "Epoch 3/5\n",
            "2400/2400 [==============================] - 43s 18ms/step - loss: 0.8465 - acc: 0.6867\n",
            "Epoch 4/5\n",
            "2400/2400 [==============================] - 44s 18ms/step - loss: 0.6781 - acc: 0.7517\n",
            "Epoch 5/5\n",
            "2400/2400 [==============================] - 46s 19ms/step - loss: 0.5373 - acc: 0.8183\n"
          ],
          "name": "stdout"
        }
      ]
    },
    {
      "cell_type": "code",
      "metadata": {
        "id": "wNC-83Viisvh",
        "colab_type": "code",
        "colab": {
          "base_uri": "https://localhost:8080/",
          "height": 87
        },
        "outputId": "ac3d4e9a-b458-4f81-cd16-3b03bb1f12b2"
      },
      "source": [
        "#loaded_model=load_model('support_ticket_dl.h5')\n",
        "accr = model.evaluate(X_test,Y_test)\n",
        "print('Test set\\n  Loss: {:0.3f}\\n  Accuracy: {:0.3f}'.format(accr[0],accr[1]))\n"
      ],
      "execution_count": 49,
      "outputs": [
        {
          "output_type": "stream",
          "text": [
            "600/600 [==============================] - 2s 4ms/step\n",
            "Test set\n",
            "  Loss: 0.971\n",
            "  Accuracy: 0.707\n"
          ],
          "name": "stdout"
        }
      ]
    },
    {
      "cell_type": "code",
      "metadata": {
        "id": "U2NghXuXris7",
        "colab_type": "code",
        "colab": {
          "base_uri": "https://localhost:8080/",
          "height": 34
        },
        "outputId": "d800e683-f3c0-4ea0-be1a-ff7ad5f88198"
      },
      "source": [
        "new_complaint = ['Unable to access the server,Please fix it']\n",
        "seq = tokenizer.texts_to_sequences(new_complaint)\n",
        "padded = keras.preprocessing.sequence.pad_sequences(seq, maxlen=MAX_SEQUENCE_LENGTH)\n",
        "pred = model.predict(padded)\n",
        "labels = ['Application', ' Database', 'Network', 'User Maintenance','Security']\n",
        "print(pred, labels[np.argmax(pred)])\n",
        "\n"
      ],
      "execution_count": 43,
      "outputs": [
        {
          "output_type": "stream",
          "text": [
            "[[0.00465419 0.1294089  0.7393266  0.11801904 0.00859127]] Network\n"
          ],
          "name": "stdout"
        }
      ]
    },
    {
      "cell_type": "code",
      "metadata": {
        "id": "pPNm8HWXrmQ8",
        "colab_type": "code",
        "colab": {}
      },
      "source": [
        "model.save('support_ticket_dl.h5')"
      ],
      "execution_count": 0,
      "outputs": []
    },
    {
      "cell_type": "code",
      "metadata": {
        "id": "HPkKEwZEQbs9",
        "colab_type": "code",
        "colab": {}
      },
      "source": [
        ""
      ],
      "execution_count": 0,
      "outputs": []
    }
  ]
}